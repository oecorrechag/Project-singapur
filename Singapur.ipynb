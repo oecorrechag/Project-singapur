{
 "cells": [
  {
   "cell_type": "markdown",
   "id": "a2f7f559",
   "metadata": {},
   "source": [
    "# 1. Importing Libraries"
   ]
  },
  {
   "cell_type": "code",
   "execution_count": 1,
   "id": "fee64d97",
   "metadata": {},
   "outputs": [
    {
     "name": "stderr",
     "output_type": "stream",
     "text": [
      "<frozen importlib._bootstrap>:228: RuntimeWarning: scipy._lib.messagestream.MessageStream size changed, may indicate binary incompatibility. Expected 56 from C header, got 64 from PyObject\n"
     ]
    }
   ],
   "source": [
    "import lifetimes\n",
    "import pandas as pd\n",
    "import numpy as np\n",
    "import datetime as dt\n",
    "import matplotlib.pyplot as plt\n",
    "import seaborn as sns\n",
    "from lifetimes import BetaGeoFitter # BG/NBD\n",
    "from lifetimes import GammaGammaFitter # Gamma-Gamma Model\n",
    "from lifetimes.plotting import plot_frequency_recency_matrix\n",
    "pd.set_option('display.max_rows', 500)\n",
    "pd.set_option('display.max_columns', 500)\n",
    "pd.set_option('display.width', 1000)"
   ]
  },
  {
   "cell_type": "markdown",
   "id": "aaaeaee5",
   "metadata": {},
   "source": [
    "https://medium.com/@ugursavci/customer-lifetime-value-prediction-in-python-89e4a50df12e"
   ]
  },
  {
   "cell_type": "markdown",
   "id": "b8d1f615",
   "metadata": {},
   "source": [
    "# 2. Reading Data"
   ]
  },
  {
   "cell_type": "code",
   "execution_count": 2,
   "id": "dc1f177d",
   "metadata": {},
   "outputs": [
    {
     "data": {
      "text/html": [
       "<div>\n",
       "<style scoped>\n",
       "    .dataframe tbody tr th:only-of-type {\n",
       "        vertical-align: middle;\n",
       "    }\n",
       "\n",
       "    .dataframe tbody tr th {\n",
       "        vertical-align: top;\n",
       "    }\n",
       "\n",
       "    .dataframe thead th {\n",
       "        text-align: right;\n",
       "    }\n",
       "</style>\n",
       "<table border=\"1\" class=\"dataframe\">\n",
       "  <thead>\n",
       "    <tr style=\"text-align: right;\">\n",
       "      <th></th>\n",
       "      <th>invoice</th>\n",
       "      <th>date</th>\n",
       "      <th>customer_id</th>\n",
       "      <th>stockcode</th>\n",
       "      <th>price</th>\n",
       "    </tr>\n",
       "  </thead>\n",
       "  <tbody>\n",
       "    <tr>\n",
       "      <th>0</th>\n",
       "      <td>1</td>\n",
       "      <td>2020-07-25</td>\n",
       "      <td>d18734</td>\n",
       "      <td>y7</td>\n",
       "      <td>50.45</td>\n",
       "    </tr>\n",
       "    <tr>\n",
       "      <th>1</th>\n",
       "      <td>2</td>\n",
       "      <td>2020-01-17</td>\n",
       "      <td>c21086</td>\n",
       "      <td>x7</td>\n",
       "      <td>25.30</td>\n",
       "    </tr>\n",
       "    <tr>\n",
       "      <th>2</th>\n",
       "      <td>3</td>\n",
       "      <td>2019-07-05</td>\n",
       "      <td>d18185</td>\n",
       "      <td>z5</td>\n",
       "      <td>18.40</td>\n",
       "    </tr>\n",
       "    <tr>\n",
       "      <th>3</th>\n",
       "      <td>4</td>\n",
       "      <td>2019-02-26</td>\n",
       "      <td>c18331</td>\n",
       "      <td>z2</td>\n",
       "      <td>5.50</td>\n",
       "    </tr>\n",
       "    <tr>\n",
       "      <th>4</th>\n",
       "      <td>5</td>\n",
       "      <td>2019-02-10</td>\n",
       "      <td>b16309</td>\n",
       "      <td>y7</td>\n",
       "      <td>18.40</td>\n",
       "    </tr>\n",
       "  </tbody>\n",
       "</table>\n",
       "</div>"
      ],
      "text/plain": [
       "   invoice        date customer_id stockcode  price\n",
       "0        1  2020-07-25      d18734        y7  50.45\n",
       "1        2  2020-01-17      c21086        x7  25.30\n",
       "2        3  2019-07-05      d18185        z5  18.40\n",
       "3        4  2019-02-26      c18331        z2   5.50\n",
       "4        5  2019-02-10      b16309        y7  18.40"
      ]
     },
     "execution_count": 2,
     "metadata": {},
     "output_type": "execute_result"
    }
   ],
   "source": [
    "df = pd.read_csv('data/sample.csv')\n",
    "df.head()"
   ]
  },
  {
   "cell_type": "markdown",
   "id": "d6563541",
   "metadata": {},
   "source": [
    "# 3. Understanding Data"
   ]
  },
  {
   "cell_type": "code",
   "execution_count": 3,
   "id": "9b79f271",
   "metadata": {},
   "outputs": [
    {
     "name": "stdout",
     "output_type": "stream",
     "text": [
      "<class 'pandas.core.frame.DataFrame'>\n",
      "RangeIndex: 100000 entries, 0 to 99999\n",
      "Data columns (total 5 columns):\n",
      " #   Column       Non-Null Count   Dtype  \n",
      "---  ------       --------------   -----  \n",
      " 0   invoice      100000 non-null  int64  \n",
      " 1   date         100000 non-null  object \n",
      " 2   customer_id  100000 non-null  object \n",
      " 3   stockcode    100000 non-null  object \n",
      " 4   price        100000 non-null  float64\n",
      "dtypes: float64(1), int64(1), object(3)\n",
      "memory usage: 3.8+ MB\n"
     ]
    }
   ],
   "source": [
    "df.info()"
   ]
  },
  {
   "cell_type": "code",
   "execution_count": 4,
   "id": "4c3d26be",
   "metadata": {},
   "outputs": [
    {
     "data": {
      "text/html": [
       "<div>\n",
       "<style scoped>\n",
       "    .dataframe tbody tr th:only-of-type {\n",
       "        vertical-align: middle;\n",
       "    }\n",
       "\n",
       "    .dataframe tbody tr th {\n",
       "        vertical-align: top;\n",
       "    }\n",
       "\n",
       "    .dataframe thead th {\n",
       "        text-align: right;\n",
       "    }\n",
       "</style>\n",
       "<table border=\"1\" class=\"dataframe\">\n",
       "  <thead>\n",
       "    <tr style=\"text-align: right;\">\n",
       "      <th></th>\n",
       "      <th>invoice</th>\n",
       "      <th>price</th>\n",
       "    </tr>\n",
       "  </thead>\n",
       "  <tbody>\n",
       "    <tr>\n",
       "      <th>count</th>\n",
       "      <td>100000.000000</td>\n",
       "      <td>100000.000000</td>\n",
       "    </tr>\n",
       "    <tr>\n",
       "      <th>mean</th>\n",
       "      <td>50000.500000</td>\n",
       "      <td>22.618414</td>\n",
       "    </tr>\n",
       "    <tr>\n",
       "      <th>std</th>\n",
       "      <td>28867.657797</td>\n",
       "      <td>15.425024</td>\n",
       "    </tr>\n",
       "    <tr>\n",
       "      <th>min</th>\n",
       "      <td>1.000000</td>\n",
       "      <td>5.500000</td>\n",
       "    </tr>\n",
       "    <tr>\n",
       "      <th>25%</th>\n",
       "      <td>25000.750000</td>\n",
       "      <td>12.990000</td>\n",
       "    </tr>\n",
       "    <tr>\n",
       "      <th>50%</th>\n",
       "      <td>50000.500000</td>\n",
       "      <td>18.400000</td>\n",
       "    </tr>\n",
       "    <tr>\n",
       "      <th>75%</th>\n",
       "      <td>75000.250000</td>\n",
       "      <td>25.300000</td>\n",
       "    </tr>\n",
       "    <tr>\n",
       "      <th>max</th>\n",
       "      <td>100000.000000</td>\n",
       "      <td>50.450000</td>\n",
       "    </tr>\n",
       "  </tbody>\n",
       "</table>\n",
       "</div>"
      ],
      "text/plain": [
       "             invoice          price\n",
       "count  100000.000000  100000.000000\n",
       "mean    50000.500000      22.618414\n",
       "std     28867.657797      15.425024\n",
       "min         1.000000       5.500000\n",
       "25%     25000.750000      12.990000\n",
       "50%     50000.500000      18.400000\n",
       "75%     75000.250000      25.300000\n",
       "max    100000.000000      50.450000"
      ]
     },
     "execution_count": 4,
     "metadata": {},
     "output_type": "execute_result"
    }
   ],
   "source": [
    "df.describe()"
   ]
  },
  {
   "cell_type": "markdown",
   "id": "3b714c95",
   "metadata": {},
   "source": [
    "# 4. Data Preprocessing\n",
    "\n",
    "## Filtering Our Data"
   ]
  },
  {
   "cell_type": "code",
   "execution_count": 7,
   "id": "55db9e84",
   "metadata": {},
   "outputs": [],
   "source": [
    "# df = df[df['Quantity'] > 0 ] # exclude the orders with 0 value\n",
    "# df = df[df['UnitPrice'] > 0] # exclude the Unit Price with 0 value\n",
    "# df = df[~df['InvoiceNo'].str.contains(\"C\",na=False)]  # C indicates the returned orders we don't want them as well"
   ]
  },
  {
   "cell_type": "markdown",
   "id": "e1a37f8d",
   "metadata": {},
   "source": [
    "## Missing Values"
   ]
  },
  {
   "cell_type": "code",
   "execution_count": 8,
   "id": "119dccc3",
   "metadata": {},
   "outputs": [
    {
     "data": {
      "text/plain": [
       "invoice        0\n",
       "date           0\n",
       "customer_id    0\n",
       "stockcode      0\n",
       "price          0\n",
       "dtype: int64"
      ]
     },
     "execution_count": 8,
     "metadata": {},
     "output_type": "execute_result"
    }
   ],
   "source": [
    "df.isnull().sum()"
   ]
  },
  {
   "cell_type": "code",
   "execution_count": 9,
   "id": "fdc5d693",
   "metadata": {},
   "outputs": [],
   "source": [
    "df.dropna(inplace=True)  # inplace=True means we dropped them permanently"
   ]
  },
  {
   "cell_type": "markdown",
   "id": "c555f1bd",
   "metadata": {},
   "source": [
    "## Handling Outliers"
   ]
  },
  {
   "cell_type": "code",
   "execution_count": 10,
   "id": "8c01b9bb",
   "metadata": {},
   "outputs": [],
   "source": [
    "def find_boundaries(df, variable,q1=0.05,q2=0.95):\n",
    "    # the boundaries are the quantiles\n",
    "    lower_boundary = df[variable].quantile(q1) # lower quantile\n",
    "    upper_boundary = df[variable].quantile(q2) # upper quantile\n",
    "    return upper_boundary, lower_boundary\n",
    "def capping_outliers(df,variable):\n",
    "    upper_boundary,lower_boundary =  find_boundaries(df,variable)\n",
    "    df[variable] = np.where(df[variable] > upper_boundary, upper_boundary,\n",
    "                            np.where(df[variable] < lower_boundary, lower_boundary, df[variable]))"
   ]
  },
  {
   "cell_type": "code",
   "execution_count": 16,
   "id": "b1dfac30",
   "metadata": {},
   "outputs": [],
   "source": [
    "# capping_outliers(df,'price')\n",
    "# capping_outliers(df,'stockcode')"
   ]
  },
  {
   "cell_type": "code",
   "execution_count": 17,
   "id": "1b2291be",
   "metadata": {},
   "outputs": [
    {
     "data": {
      "text/html": [
       "<div>\n",
       "<style scoped>\n",
       "    .dataframe tbody tr th:only-of-type {\n",
       "        vertical-align: middle;\n",
       "    }\n",
       "\n",
       "    .dataframe tbody tr th {\n",
       "        vertical-align: top;\n",
       "    }\n",
       "\n",
       "    .dataframe thead th {\n",
       "        text-align: right;\n",
       "    }\n",
       "</style>\n",
       "<table border=\"1\" class=\"dataframe\">\n",
       "  <thead>\n",
       "    <tr style=\"text-align: right;\">\n",
       "      <th></th>\n",
       "      <th>invoice</th>\n",
       "      <th>price</th>\n",
       "    </tr>\n",
       "  </thead>\n",
       "  <tbody>\n",
       "    <tr>\n",
       "      <th>count</th>\n",
       "      <td>100000.000000</td>\n",
       "      <td>100000.000000</td>\n",
       "    </tr>\n",
       "    <tr>\n",
       "      <th>mean</th>\n",
       "      <td>50000.500000</td>\n",
       "      <td>22.618414</td>\n",
       "    </tr>\n",
       "    <tr>\n",
       "      <th>std</th>\n",
       "      <td>28867.657797</td>\n",
       "      <td>15.425024</td>\n",
       "    </tr>\n",
       "    <tr>\n",
       "      <th>min</th>\n",
       "      <td>1.000000</td>\n",
       "      <td>5.500000</td>\n",
       "    </tr>\n",
       "    <tr>\n",
       "      <th>25%</th>\n",
       "      <td>25000.750000</td>\n",
       "      <td>12.990000</td>\n",
       "    </tr>\n",
       "    <tr>\n",
       "      <th>50%</th>\n",
       "      <td>50000.500000</td>\n",
       "      <td>18.400000</td>\n",
       "    </tr>\n",
       "    <tr>\n",
       "      <th>75%</th>\n",
       "      <td>75000.250000</td>\n",
       "      <td>25.300000</td>\n",
       "    </tr>\n",
       "    <tr>\n",
       "      <th>max</th>\n",
       "      <td>100000.000000</td>\n",
       "      <td>50.450000</td>\n",
       "    </tr>\n",
       "  </tbody>\n",
       "</table>\n",
       "</div>"
      ],
      "text/plain": [
       "             invoice          price\n",
       "count  100000.000000  100000.000000\n",
       "mean    50000.500000      22.618414\n",
       "std     28867.657797      15.425024\n",
       "min         1.000000       5.500000\n",
       "25%     25000.750000      12.990000\n",
       "50%     50000.500000      18.400000\n",
       "75%     75000.250000      25.300000\n",
       "max    100000.000000      50.450000"
      ]
     },
     "execution_count": 17,
     "metadata": {},
     "output_type": "execute_result"
    }
   ],
   "source": [
    "df.describe()"
   ]
  },
  {
   "cell_type": "markdown",
   "id": "8cee01e7",
   "metadata": {},
   "source": [
    "## Preparing Our Dataset ( RFM Dataset )"
   ]
  },
  {
   "cell_type": "code",
   "execution_count": 18,
   "id": "2af1a399",
   "metadata": {},
   "outputs": [],
   "source": [
    "# df['Total Price'] = df['UnitPrice'] * df['Quantity']"
   ]
  },
  {
   "cell_type": "code",
   "execution_count": 19,
   "id": "ca8a15f2",
   "metadata": {},
   "outputs": [
    {
     "data": {
      "text/html": [
       "<div>\n",
       "<style scoped>\n",
       "    .dataframe tbody tr th:only-of-type {\n",
       "        vertical-align: middle;\n",
       "    }\n",
       "\n",
       "    .dataframe tbody tr th {\n",
       "        vertical-align: top;\n",
       "    }\n",
       "\n",
       "    .dataframe thead th {\n",
       "        text-align: right;\n",
       "    }\n",
       "</style>\n",
       "<table border=\"1\" class=\"dataframe\">\n",
       "  <thead>\n",
       "    <tr style=\"text-align: right;\">\n",
       "      <th></th>\n",
       "      <th>invoice</th>\n",
       "      <th>date</th>\n",
       "      <th>customer_id</th>\n",
       "      <th>stockcode</th>\n",
       "      <th>price</th>\n",
       "    </tr>\n",
       "  </thead>\n",
       "  <tbody>\n",
       "    <tr>\n",
       "      <th>0</th>\n",
       "      <td>1</td>\n",
       "      <td>2020-07-25</td>\n",
       "      <td>d18734</td>\n",
       "      <td>y7</td>\n",
       "      <td>50.45</td>\n",
       "    </tr>\n",
       "    <tr>\n",
       "      <th>1</th>\n",
       "      <td>2</td>\n",
       "      <td>2020-01-17</td>\n",
       "      <td>c21086</td>\n",
       "      <td>x7</td>\n",
       "      <td>25.30</td>\n",
       "    </tr>\n",
       "    <tr>\n",
       "      <th>2</th>\n",
       "      <td>3</td>\n",
       "      <td>2019-07-05</td>\n",
       "      <td>d18185</td>\n",
       "      <td>z5</td>\n",
       "      <td>18.40</td>\n",
       "    </tr>\n",
       "    <tr>\n",
       "      <th>3</th>\n",
       "      <td>4</td>\n",
       "      <td>2019-02-26</td>\n",
       "      <td>c18331</td>\n",
       "      <td>z2</td>\n",
       "      <td>5.50</td>\n",
       "    </tr>\n",
       "    <tr>\n",
       "      <th>4</th>\n",
       "      <td>5</td>\n",
       "      <td>2019-02-10</td>\n",
       "      <td>b16309</td>\n",
       "      <td>y7</td>\n",
       "      <td>18.40</td>\n",
       "    </tr>\n",
       "  </tbody>\n",
       "</table>\n",
       "</div>"
      ],
      "text/plain": [
       "   invoice        date customer_id stockcode  price\n",
       "0        1  2020-07-25      d18734        y7  50.45\n",
       "1        2  2020-01-17      c21086        x7  25.30\n",
       "2        3  2019-07-05      d18185        z5  18.40\n",
       "3        4  2019-02-26      c18331        z2   5.50\n",
       "4        5  2019-02-10      b16309        y7  18.40"
      ]
     },
     "execution_count": 19,
     "metadata": {},
     "output_type": "execute_result"
    }
   ],
   "source": [
    "df.head()"
   ]
  },
  {
   "cell_type": "code",
   "execution_count": 20,
   "id": "8444ac8a",
   "metadata": {},
   "outputs": [
    {
     "data": {
      "text/plain": [
       "'2020-12-31'"
      ]
     },
     "execution_count": 20,
     "metadata": {},
     "output_type": "execute_result"
    }
   ],
   "source": [
    "df['date'].max()"
   ]
  },
  {
   "cell_type": "code",
   "execution_count": 21,
   "id": "948b0e9d",
   "metadata": {},
   "outputs": [
    {
     "data": {
      "text/html": [
       "<div>\n",
       "<style scoped>\n",
       "    .dataframe tbody tr th:only-of-type {\n",
       "        vertical-align: middle;\n",
       "    }\n",
       "\n",
       "    .dataframe tbody tr th {\n",
       "        vertical-align: top;\n",
       "    }\n",
       "\n",
       "    .dataframe thead th {\n",
       "        text-align: right;\n",
       "    }\n",
       "</style>\n",
       "<table border=\"1\" class=\"dataframe\">\n",
       "  <thead>\n",
       "    <tr style=\"text-align: right;\">\n",
       "      <th></th>\n",
       "      <th>frequency</th>\n",
       "      <th>recency</th>\n",
       "      <th>T</th>\n",
       "      <th>monetary_value</th>\n",
       "    </tr>\n",
       "    <tr>\n",
       "      <th>customer_id</th>\n",
       "      <th></th>\n",
       "      <th></th>\n",
       "      <th></th>\n",
       "      <th></th>\n",
       "    </tr>\n",
       "  </thead>\n",
       "  <tbody>\n",
       "    <tr>\n",
       "      <th>a15600</th>\n",
       "      <td>2.0</td>\n",
       "      <td>501.0</td>\n",
       "      <td>653.0</td>\n",
       "      <td>25.3000</td>\n",
       "    </tr>\n",
       "    <tr>\n",
       "      <th>a15601</th>\n",
       "      <td>1.0</td>\n",
       "      <td>230.0</td>\n",
       "      <td>399.0</td>\n",
       "      <td>5.5000</td>\n",
       "    </tr>\n",
       "    <tr>\n",
       "      <th>a15602</th>\n",
       "      <td>2.0</td>\n",
       "      <td>339.0</td>\n",
       "      <td>655.0</td>\n",
       "      <td>27.9750</td>\n",
       "    </tr>\n",
       "    <tr>\n",
       "      <th>a15603</th>\n",
       "      <td>2.0</td>\n",
       "      <td>253.0</td>\n",
       "      <td>274.0</td>\n",
       "      <td>19.1450</td>\n",
       "    </tr>\n",
       "    <tr>\n",
       "      <th>a15604</th>\n",
       "      <td>4.0</td>\n",
       "      <td>570.0</td>\n",
       "      <td>576.0</td>\n",
       "      <td>18.7725</td>\n",
       "    </tr>\n",
       "  </tbody>\n",
       "</table>\n",
       "</div>"
      ],
      "text/plain": [
       "             frequency  recency      T  monetary_value\n",
       "customer_id                                           \n",
       "a15600             2.0    501.0  653.0         25.3000\n",
       "a15601             1.0    230.0  399.0          5.5000\n",
       "a15602             2.0    339.0  655.0         27.9750\n",
       "a15603             2.0    253.0  274.0         19.1450\n",
       "a15604             4.0    570.0  576.0         18.7725"
      ]
     },
     "execution_count": 21,
     "metadata": {},
     "output_type": "execute_result"
    }
   ],
   "source": [
    "clv = lifetimes.utils.summary_data_from_transaction_data(df,'customer_id','date','price',observation_period_end='2020-12-31')\n",
    "clv.head()"
   ]
  },
  {
   "cell_type": "code",
   "execution_count": 22,
   "id": "4b6a9734",
   "metadata": {},
   "outputs": [
    {
     "data": {
      "text/html": [
       "<div>\n",
       "<style scoped>\n",
       "    .dataframe tbody tr th:only-of-type {\n",
       "        vertical-align: middle;\n",
       "    }\n",
       "\n",
       "    .dataframe tbody tr th {\n",
       "        vertical-align: top;\n",
       "    }\n",
       "\n",
       "    .dataframe thead th {\n",
       "        text-align: right;\n",
       "    }\n",
       "</style>\n",
       "<table border=\"1\" class=\"dataframe\">\n",
       "  <thead>\n",
       "    <tr style=\"text-align: right;\">\n",
       "      <th></th>\n",
       "      <th>frequency</th>\n",
       "      <th>recency</th>\n",
       "      <th>T</th>\n",
       "      <th>monetary_value</th>\n",
       "    </tr>\n",
       "    <tr>\n",
       "      <th>customer_id</th>\n",
       "      <th></th>\n",
       "      <th></th>\n",
       "      <th></th>\n",
       "      <th></th>\n",
       "    </tr>\n",
       "  </thead>\n",
       "  <tbody>\n",
       "    <tr>\n",
       "      <th>a15600</th>\n",
       "      <td>2.0</td>\n",
       "      <td>501.0</td>\n",
       "      <td>653.0</td>\n",
       "      <td>25.3000</td>\n",
       "    </tr>\n",
       "    <tr>\n",
       "      <th>a15602</th>\n",
       "      <td>2.0</td>\n",
       "      <td>339.0</td>\n",
       "      <td>655.0</td>\n",
       "      <td>27.9750</td>\n",
       "    </tr>\n",
       "    <tr>\n",
       "      <th>a15603</th>\n",
       "      <td>2.0</td>\n",
       "      <td>253.0</td>\n",
       "      <td>274.0</td>\n",
       "      <td>19.1450</td>\n",
       "    </tr>\n",
       "    <tr>\n",
       "      <th>a15604</th>\n",
       "      <td>4.0</td>\n",
       "      <td>570.0</td>\n",
       "      <td>576.0</td>\n",
       "      <td>18.7725</td>\n",
       "    </tr>\n",
       "    <tr>\n",
       "      <th>a15605</th>\n",
       "      <td>4.0</td>\n",
       "      <td>530.0</td>\n",
       "      <td>682.0</td>\n",
       "      <td>26.7850</td>\n",
       "    </tr>\n",
       "  </tbody>\n",
       "</table>\n",
       "</div>"
      ],
      "text/plain": [
       "             frequency  recency      T  monetary_value\n",
       "customer_id                                           \n",
       "a15600             2.0    501.0  653.0         25.3000\n",
       "a15602             2.0    339.0  655.0         27.9750\n",
       "a15603             2.0    253.0  274.0         19.1450\n",
       "a15604             4.0    570.0  576.0         18.7725\n",
       "a15605             4.0    530.0  682.0         26.7850"
      ]
     },
     "execution_count": 22,
     "metadata": {},
     "output_type": "execute_result"
    }
   ],
   "source": [
    "clv = clv[clv['frequency']>1] # we want only customers shopped more than 2 times\n",
    "clv.head()"
   ]
  },
  {
   "cell_type": "markdown",
   "id": "3eeb8864",
   "metadata": {},
   "source": [
    "## Frequency/Recency analysis using the BG/NBD model"
   ]
  },
  {
   "cell_type": "code",
   "execution_count": 23,
   "id": "5f1fdaf8",
   "metadata": {},
   "outputs": [
    {
     "data": {
      "text/plain": [
       "<lifetimes.BetaGeoFitter: fitted with 19021 subjects, a: 0.00, alpha: 1301.56, b: 0.00, r: 6.96>"
      ]
     },
     "execution_count": 23,
     "metadata": {},
     "output_type": "execute_result"
    }
   ],
   "source": [
    "bgf = BetaGeoFitter(penalizer_coef=0.001)\n",
    "bgf.fit(clv['frequency'], clv['recency'], clv['T'])"
   ]
  },
  {
   "cell_type": "markdown",
   "id": "858203e4",
   "metadata": {},
   "source": [
    "## Expected Number of Purchases within 6 Months"
   ]
  },
  {
   "cell_type": "code",
   "execution_count": 24,
   "id": "e178c2f4",
   "metadata": {},
   "outputs": [
    {
     "data": {
      "text/html": [
       "<div>\n",
       "<style scoped>\n",
       "    .dataframe tbody tr th:only-of-type {\n",
       "        vertical-align: middle;\n",
       "    }\n",
       "\n",
       "    .dataframe tbody tr th {\n",
       "        vertical-align: top;\n",
       "    }\n",
       "\n",
       "    .dataframe thead th {\n",
       "        text-align: right;\n",
       "    }\n",
       "</style>\n",
       "<table border=\"1\" class=\"dataframe\">\n",
       "  <thead>\n",
       "    <tr style=\"text-align: right;\">\n",
       "      <th></th>\n",
       "      <th>frequency</th>\n",
       "      <th>recency</th>\n",
       "      <th>T</th>\n",
       "      <th>monetary_value</th>\n",
       "      <th>expected_purc_6_months</th>\n",
       "    </tr>\n",
       "    <tr>\n",
       "      <th>customer_id</th>\n",
       "      <th></th>\n",
       "      <th></th>\n",
       "      <th></th>\n",
       "      <th></th>\n",
       "      <th></th>\n",
       "    </tr>\n",
       "  </thead>\n",
       "  <tbody>\n",
       "    <tr>\n",
       "      <th>a17404</th>\n",
       "      <td>10.0</td>\n",
       "      <td>529.0</td>\n",
       "      <td>561.0</td>\n",
       "      <td>17.28400</td>\n",
       "      <td>1.639356</td>\n",
       "    </tr>\n",
       "    <tr>\n",
       "      <th>e20570</th>\n",
       "      <td>8.0</td>\n",
       "      <td>307.0</td>\n",
       "      <td>348.0</td>\n",
       "      <td>29.18625</td>\n",
       "      <td>1.632799</td>\n",
       "    </tr>\n",
       "    <tr>\n",
       "      <th>b18542</th>\n",
       "      <td>10.0</td>\n",
       "      <td>555.0</td>\n",
       "      <td>596.0</td>\n",
       "      <td>22.46900</td>\n",
       "      <td>1.609119</td>\n",
       "    </tr>\n",
       "    <tr>\n",
       "      <th>d17760</th>\n",
       "      <td>10.0</td>\n",
       "      <td>577.0</td>\n",
       "      <td>619.0</td>\n",
       "      <td>24.95900</td>\n",
       "      <td>1.589848</td>\n",
       "    </tr>\n",
       "    <tr>\n",
       "      <th>b19580</th>\n",
       "      <td>10.0</td>\n",
       "      <td>643.0</td>\n",
       "      <td>652.0</td>\n",
       "      <td>18.03300</td>\n",
       "      <td>1.562992</td>\n",
       "    </tr>\n",
       "  </tbody>\n",
       "</table>\n",
       "</div>"
      ],
      "text/plain": [
       "             frequency  recency      T  monetary_value  expected_purc_6_months\n",
       "customer_id                                                                   \n",
       "a17404            10.0    529.0  561.0        17.28400                1.639356\n",
       "e20570             8.0    307.0  348.0        29.18625                1.632799\n",
       "b18542            10.0    555.0  596.0        22.46900                1.609119\n",
       "d17760            10.0    577.0  619.0        24.95900                1.589848\n",
       "b19580            10.0    643.0  652.0        18.03300                1.562992"
      ]
     },
     "execution_count": 24,
     "metadata": {},
     "output_type": "execute_result"
    }
   ],
   "source": [
    "t = 180 # 30 day period\n",
    "clv['expected_purc_6_months'] = bgf.conditional_expected_number_of_purchases_up_to_time(t, clv['frequency'], clv['recency'], clv['T'])\n",
    "clv.sort_values(by='expected_purc_6_months',ascending=False).head(5)"
   ]
  },
  {
   "cell_type": "markdown",
   "id": "d717f1d4",
   "metadata": {},
   "source": [
    "## Gamma-Gamma Model"
   ]
  },
  {
   "cell_type": "code",
   "execution_count": 25,
   "id": "5f28e385",
   "metadata": {},
   "outputs": [
    {
     "data": {
      "text/html": [
       "<div>\n",
       "<style scoped>\n",
       "    .dataframe tbody tr th:only-of-type {\n",
       "        vertical-align: middle;\n",
       "    }\n",
       "\n",
       "    .dataframe tbody tr th {\n",
       "        vertical-align: top;\n",
       "    }\n",
       "\n",
       "    .dataframe thead th {\n",
       "        text-align: right;\n",
       "    }\n",
       "</style>\n",
       "<table border=\"1\" class=\"dataframe\">\n",
       "  <thead>\n",
       "    <tr style=\"text-align: right;\">\n",
       "      <th></th>\n",
       "      <th>frequency</th>\n",
       "      <th>monetary_value</th>\n",
       "    </tr>\n",
       "  </thead>\n",
       "  <tbody>\n",
       "    <tr>\n",
       "      <th>frequency</th>\n",
       "      <td>1.000000</td>\n",
       "      <td>-0.007872</td>\n",
       "    </tr>\n",
       "    <tr>\n",
       "      <th>monetary_value</th>\n",
       "      <td>-0.007872</td>\n",
       "      <td>1.000000</td>\n",
       "    </tr>\n",
       "  </tbody>\n",
       "</table>\n",
       "</div>"
      ],
      "text/plain": [
       "                frequency  monetary_value\n",
       "frequency        1.000000       -0.007872\n",
       "monetary_value  -0.007872        1.000000"
      ]
     },
     "execution_count": 25,
     "metadata": {},
     "output_type": "execute_result"
    }
   ],
   "source": [
    "clv[['frequency','monetary_value']].corr()"
   ]
  },
  {
   "cell_type": "code",
   "execution_count": 26,
   "id": "4a9af6b0",
   "metadata": {},
   "outputs": [
    {
     "data": {
      "text/html": [
       "<div>\n",
       "<style scoped>\n",
       "    .dataframe tbody tr th:only-of-type {\n",
       "        vertical-align: middle;\n",
       "    }\n",
       "\n",
       "    .dataframe tbody tr th {\n",
       "        vertical-align: top;\n",
       "    }\n",
       "\n",
       "    .dataframe thead th {\n",
       "        text-align: right;\n",
       "    }\n",
       "</style>\n",
       "<table border=\"1\" class=\"dataframe\">\n",
       "  <thead>\n",
       "    <tr style=\"text-align: right;\">\n",
       "      <th></th>\n",
       "      <th>frequency</th>\n",
       "      <th>monetary_value</th>\n",
       "    </tr>\n",
       "  </thead>\n",
       "  <tbody>\n",
       "    <tr>\n",
       "      <th>frequency</th>\n",
       "      <td>1.000000</td>\n",
       "      <td>-0.007872</td>\n",
       "    </tr>\n",
       "    <tr>\n",
       "      <th>monetary_value</th>\n",
       "      <td>-0.007872</td>\n",
       "      <td>1.000000</td>\n",
       "    </tr>\n",
       "  </tbody>\n",
       "</table>\n",
       "</div>"
      ],
      "text/plain": [
       "                frequency  monetary_value\n",
       "frequency        1.000000       -0.007872\n",
       "monetary_value  -0.007872        1.000000"
      ]
     },
     "execution_count": 26,
     "metadata": {},
     "output_type": "execute_result"
    }
   ],
   "source": [
    "clv[['frequency','monetary_value']].corr()"
   ]
  },
  {
   "cell_type": "code",
   "execution_count": 28,
   "id": "2ade0139",
   "metadata": {},
   "outputs": [],
   "source": [
    "# df[['UnitPrice','Quantity']].corr()"
   ]
  },
  {
   "cell_type": "code",
   "execution_count": 29,
   "id": "a2beeda1",
   "metadata": {},
   "outputs": [
    {
     "data": {
      "text/plain": [
       "<lifetimes.GammaGammaFitter: fitted with 19021 subjects, p: 4.25, q: 1.25, v: 4.02>"
      ]
     },
     "execution_count": 29,
     "metadata": {},
     "output_type": "execute_result"
    }
   ],
   "source": [
    "ggf = GammaGammaFitter(penalizer_coef=0.01)\n",
    "ggf.fit(clv[\"frequency\"],\n",
    "        clv[\"monetary_value\"])"
   ]
  },
  {
   "cell_type": "code",
   "execution_count": 30,
   "id": "33f68e2f",
   "metadata": {},
   "outputs": [],
   "source": [
    "clv['6_monhths_clv']=ggf.customer_lifetime_value(bgf,\n",
    "                                   clv[\"frequency\"],\n",
    "                                   clv[\"recency\"],\n",
    "                                   clv[\"T\"],\n",
    "                                   clv[\"monetary_value\"],\n",
    "                                   time=6,\n",
    "                                   freq='D',\n",
    "                                   discount_rate=0.01)"
   ]
  },
  {
   "cell_type": "code",
   "execution_count": 31,
   "id": "7f3597c6",
   "metadata": {},
   "outputs": [
    {
     "data": {
      "text/html": [
       "<div>\n",
       "<style scoped>\n",
       "    .dataframe tbody tr th:only-of-type {\n",
       "        vertical-align: middle;\n",
       "    }\n",
       "\n",
       "    .dataframe tbody tr th {\n",
       "        vertical-align: top;\n",
       "    }\n",
       "\n",
       "    .dataframe thead th {\n",
       "        text-align: right;\n",
       "    }\n",
       "</style>\n",
       "<table border=\"1\" class=\"dataframe\">\n",
       "  <thead>\n",
       "    <tr style=\"text-align: right;\">\n",
       "      <th></th>\n",
       "      <th>frequency</th>\n",
       "      <th>recency</th>\n",
       "      <th>T</th>\n",
       "      <th>monetary_value</th>\n",
       "      <th>expected_purc_6_months</th>\n",
       "      <th>6_monhths_clv</th>\n",
       "    </tr>\n",
       "    <tr>\n",
       "      <th>customer_id</th>\n",
       "      <th></th>\n",
       "      <th></th>\n",
       "      <th></th>\n",
       "      <th></th>\n",
       "      <th></th>\n",
       "      <th></th>\n",
       "    </tr>\n",
       "  </thead>\n",
       "  <tbody>\n",
       "    <tr>\n",
       "      <th>a19759</th>\n",
       "      <td>3.0</td>\n",
       "      <td>194.0</td>\n",
       "      <td>451.0</td>\n",
       "      <td>58.883333</td>\n",
       "      <td>1.023301</td>\n",
       "      <td>58.393584</td>\n",
       "    </tr>\n",
       "    <tr>\n",
       "      <th>a17859</th>\n",
       "      <td>2.0</td>\n",
       "      <td>102.0</td>\n",
       "      <td>133.0</td>\n",
       "      <td>50.450000</td>\n",
       "      <td>1.124664</td>\n",
       "      <td>55.378122</td>\n",
       "    </tr>\n",
       "    <tr>\n",
       "      <th>e22612</th>\n",
       "      <td>2.0</td>\n",
       "      <td>96.0</td>\n",
       "      <td>144.0</td>\n",
       "      <td>50.450000</td>\n",
       "      <td>1.116105</td>\n",
       "      <td>54.956720</td>\n",
       "    </tr>\n",
       "    <tr>\n",
       "      <th>c20119</th>\n",
       "      <td>5.0</td>\n",
       "      <td>428.0</td>\n",
       "      <td>429.0</td>\n",
       "      <td>45.420000</td>\n",
       "      <td>1.244336</td>\n",
       "      <td>54.918728</td>\n",
       "    </tr>\n",
       "    <tr>\n",
       "      <th>d17436</th>\n",
       "      <td>2.0</td>\n",
       "      <td>74.0</td>\n",
       "      <td>159.0</td>\n",
       "      <td>50.450000</td>\n",
       "      <td>1.104643</td>\n",
       "      <td>54.392311</td>\n",
       "    </tr>\n",
       "  </tbody>\n",
       "</table>\n",
       "</div>"
      ],
      "text/plain": [
       "             frequency  recency      T  monetary_value  expected_purc_6_months  6_monhths_clv\n",
       "customer_id                                                                                  \n",
       "a19759             3.0    194.0  451.0       58.883333                1.023301      58.393584\n",
       "a17859             2.0    102.0  133.0       50.450000                1.124664      55.378122\n",
       "e22612             2.0     96.0  144.0       50.450000                1.116105      54.956720\n",
       "c20119             5.0    428.0  429.0       45.420000                1.244336      54.918728\n",
       "d17436             2.0     74.0  159.0       50.450000                1.104643      54.392311"
      ]
     },
     "execution_count": 31,
     "metadata": {},
     "output_type": "execute_result"
    }
   ],
   "source": [
    "clv.sort_values('6_monhths_clv',ascending=False).head()"
   ]
  },
  {
   "cell_type": "code",
   "execution_count": 32,
   "id": "a3ade354",
   "metadata": {},
   "outputs": [],
   "source": [
    "clv['Segment'] =  pd.qcut(clv['6_monhths_clv'], 4, labels = ['Hibernating','Need Attention','LoyalCustomers', 'Champions'])"
   ]
  },
  {
   "cell_type": "code",
   "execution_count": 33,
   "id": "00682242",
   "metadata": {},
   "outputs": [
    {
     "data": {
      "text/html": [
       "<div>\n",
       "<style scoped>\n",
       "    .dataframe tbody tr th:only-of-type {\n",
       "        vertical-align: middle;\n",
       "    }\n",
       "\n",
       "    .dataframe tbody tr th {\n",
       "        vertical-align: top;\n",
       "    }\n",
       "\n",
       "    .dataframe thead th {\n",
       "        text-align: right;\n",
       "    }\n",
       "</style>\n",
       "<table border=\"1\" class=\"dataframe\">\n",
       "  <thead>\n",
       "    <tr style=\"text-align: right;\">\n",
       "      <th></th>\n",
       "      <th>frequency</th>\n",
       "      <th>recency</th>\n",
       "      <th>T</th>\n",
       "      <th>monetary_value</th>\n",
       "      <th>expected_purc_6_months</th>\n",
       "      <th>6_monhths_clv</th>\n",
       "      <th>Segment</th>\n",
       "    </tr>\n",
       "    <tr>\n",
       "      <th>customer_id</th>\n",
       "      <th></th>\n",
       "      <th></th>\n",
       "      <th></th>\n",
       "      <th></th>\n",
       "      <th></th>\n",
       "      <th></th>\n",
       "      <th></th>\n",
       "    </tr>\n",
       "  </thead>\n",
       "  <tbody>\n",
       "    <tr>\n",
       "      <th>a15600</th>\n",
       "      <td>2.0</td>\n",
       "      <td>501.0</td>\n",
       "      <td>653.0</td>\n",
       "      <td>25.3000</td>\n",
       "      <td>0.825452</td>\n",
       "      <td>21.159845</td>\n",
       "      <td>Need Attention</td>\n",
       "    </tr>\n",
       "    <tr>\n",
       "      <th>a15602</th>\n",
       "      <td>2.0</td>\n",
       "      <td>339.0</td>\n",
       "      <td>655.0</td>\n",
       "      <td>27.9750</td>\n",
       "      <td>0.824608</td>\n",
       "      <td>23.208578</td>\n",
       "      <td>LoyalCustomers</td>\n",
       "    </tr>\n",
       "    <tr>\n",
       "      <th>a15603</th>\n",
       "      <td>2.0</td>\n",
       "      <td>253.0</td>\n",
       "      <td>274.0</td>\n",
       "      <td>19.1450</td>\n",
       "      <td>1.024015</td>\n",
       "      <td>20.334105</td>\n",
       "      <td>Need Attention</td>\n",
       "    </tr>\n",
       "    <tr>\n",
       "      <th>a15604</th>\n",
       "      <td>4.0</td>\n",
       "      <td>570.0</td>\n",
       "      <td>576.0</td>\n",
       "      <td>18.7725</td>\n",
       "      <td>1.051043</td>\n",
       "      <td>19.791113</td>\n",
       "      <td>Need Attention</td>\n",
       "    </tr>\n",
       "    <tr>\n",
       "      <th>a15605</th>\n",
       "      <td>4.0</td>\n",
       "      <td>530.0</td>\n",
       "      <td>682.0</td>\n",
       "      <td>26.7850</td>\n",
       "      <td>0.994876</td>\n",
       "      <td>26.322737</td>\n",
       "      <td>LoyalCustomers</td>\n",
       "    </tr>\n",
       "  </tbody>\n",
       "</table>\n",
       "</div>"
      ],
      "text/plain": [
       "             frequency  recency      T  monetary_value  expected_purc_6_months  6_monhths_clv         Segment\n",
       "customer_id                                                                                                  \n",
       "a15600             2.0    501.0  653.0         25.3000                0.825452      21.159845  Need Attention\n",
       "a15602             2.0    339.0  655.0         27.9750                0.824608      23.208578  LoyalCustomers\n",
       "a15603             2.0    253.0  274.0         19.1450                1.024015      20.334105  Need Attention\n",
       "a15604             4.0    570.0  576.0         18.7725                1.051043      19.791113  Need Attention\n",
       "a15605             4.0    530.0  682.0         26.7850                0.994876      26.322737  LoyalCustomers"
      ]
     },
     "execution_count": 33,
     "metadata": {},
     "output_type": "execute_result"
    }
   ],
   "source": [
    "clv.head()"
   ]
  },
  {
   "cell_type": "code",
   "execution_count": 34,
   "id": "4983b546",
   "metadata": {},
   "outputs": [
    {
     "data": {
      "text/html": [
       "<div>\n",
       "<style scoped>\n",
       "    .dataframe tbody tr th:only-of-type {\n",
       "        vertical-align: middle;\n",
       "    }\n",
       "\n",
       "    .dataframe tbody tr th {\n",
       "        vertical-align: top;\n",
       "    }\n",
       "\n",
       "    .dataframe thead th {\n",
       "        text-align: right;\n",
       "    }\n",
       "</style>\n",
       "<table border=\"1\" class=\"dataframe\">\n",
       "  <thead>\n",
       "    <tr style=\"text-align: right;\">\n",
       "      <th></th>\n",
       "      <th>frequency</th>\n",
       "      <th>recency</th>\n",
       "      <th>T</th>\n",
       "      <th>monetary_value</th>\n",
       "      <th>expected_purc_6_months</th>\n",
       "      <th>6_monhths_clv</th>\n",
       "    </tr>\n",
       "    <tr>\n",
       "      <th>Segment</th>\n",
       "      <th></th>\n",
       "      <th></th>\n",
       "      <th></th>\n",
       "      <th></th>\n",
       "      <th></th>\n",
       "      <th></th>\n",
       "    </tr>\n",
       "  </thead>\n",
       "  <tbody>\n",
       "    <tr>\n",
       "      <th>Hibernating</th>\n",
       "      <td>2.574853</td>\n",
       "      <td>423.270395</td>\n",
       "      <td>592.336627</td>\n",
       "      <td>12.017998</td>\n",
       "      <td>0.909326</td>\n",
       "      <td>11.688219</td>\n",
       "    </tr>\n",
       "    <tr>\n",
       "      <th>Need Attention</th>\n",
       "      <td>3.057834</td>\n",
       "      <td>430.381493</td>\n",
       "      <td>581.152892</td>\n",
       "      <td>18.513112</td>\n",
       "      <td>0.960641</td>\n",
       "      <td>17.964337</td>\n",
       "    </tr>\n",
       "    <tr>\n",
       "      <th>LoyalCustomers</th>\n",
       "      <td>3.333754</td>\n",
       "      <td>451.969295</td>\n",
       "      <td>596.535857</td>\n",
       "      <td>25.618478</td>\n",
       "      <td>0.978964</td>\n",
       "      <td>24.621176</td>\n",
       "    </tr>\n",
       "    <tr>\n",
       "      <th>Champions</th>\n",
       "      <td>3.319453</td>\n",
       "      <td>417.101577</td>\n",
       "      <td>555.081809</td>\n",
       "      <td>34.694028</td>\n",
       "      <td>0.999545</td>\n",
       "      <td>33.633532</td>\n",
       "    </tr>\n",
       "  </tbody>\n",
       "</table>\n",
       "</div>"
      ],
      "text/plain": [
       "                frequency     recency           T  monetary_value  expected_purc_6_months  6_monhths_clv\n",
       "Segment                                                                                                 \n",
       "Hibernating      2.574853  423.270395  592.336627       12.017998                0.909326      11.688219\n",
       "Need Attention   3.057834  430.381493  581.152892       18.513112                0.960641      17.964337\n",
       "LoyalCustomers   3.333754  451.969295  596.535857       25.618478                0.978964      24.621176\n",
       "Champions        3.319453  417.101577  555.081809       34.694028                0.999545      33.633532"
      ]
     },
     "execution_count": 34,
     "metadata": {},
     "output_type": "execute_result"
    }
   ],
   "source": [
    "clv.groupby('Segment').mean()"
   ]
  }
 ],
 "metadata": {
  "kernelspec": {
   "display_name": "Python 3 (ipykernel)",
   "language": "python",
   "name": "python3"
  },
  "language_info": {
   "codemirror_mode": {
    "name": "ipython",
    "version": 3
   },
   "file_extension": ".py",
   "mimetype": "text/x-python",
   "name": "python",
   "nbconvert_exporter": "python",
   "pygments_lexer": "ipython3",
   "version": "3.9.12"
  }
 },
 "nbformat": 4,
 "nbformat_minor": 5
}
